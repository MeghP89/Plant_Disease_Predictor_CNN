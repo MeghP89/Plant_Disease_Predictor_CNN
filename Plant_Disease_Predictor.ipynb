{
  "metadata": {
    "kernelspec": {
      "language": "python",
      "display_name": "Python 3",
      "name": "python3"
    },
    "language_info": {
      "name": "python",
      "version": "3.11.13",
      "mimetype": "text/x-python",
      "codemirror_mode": {
        "name": "ipython",
        "version": 3
      },
      "pygments_lexer": "ipython3",
      "nbconvert_exporter": "python",
      "file_extension": ".py"
    },
    "kaggle": {
      "accelerator": "none",
      "dataSources": [
        {
          "sourceId": 18648,
          "databundleVersionId": 1026645,
          "sourceType": "competition"
        }
      ],
      "dockerImageVersionId": 31089,
      "isInternetEnabled": false,
      "language": "python",
      "sourceType": "notebook",
      "isGpuEnabled": false
    },
    "colab": {
      "name": "Plant Disease Predictor",
      "provenance": [],
      "include_colab_link": true
    }
  },
  "nbformat_minor": 0,
  "nbformat": 4,
  "cells": [
    {
      "cell_type": "markdown",
      "metadata": {
        "id": "view-in-github",
        "colab_type": "text"
      },
      "source": [
        "<a href=\"https://colab.research.google.com/github/MeghP89/Plant_Disease_Predictor_CNN/blob/main/Plant_Disease_Predictor.ipynb\" target=\"_parent\"><img src=\"https://colab.research.google.com/assets/colab-badge.svg\" alt=\"Open In Colab\"/></a>"
      ]
    },
    {
      "source": [
        "# IMPORTANT: SOME KAGGLE DATA SOURCES ARE PRIVATE\n",
        "# RUN THIS CELL IN ORDER TO IMPORT YOUR KAGGLE DATA SOURCES.\n",
        "import kagglehub\n",
        "kagglehub.login()\n"
      ],
      "metadata": {
        "id": "0ufD_MUUY8ZF"
      },
      "cell_type": "code",
      "outputs": [],
      "execution_count": null
    },
    {
      "source": [
        "# IMPORTANT: RUN THIS CELL IN ORDER TO IMPORT YOUR KAGGLE DATA SOURCES,\n",
        "# THEN FEEL FREE TO DELETE THIS CELL.\n",
        "# NOTE: THIS NOTEBOOK ENVIRONMENT DIFFERS FROM KAGGLE'S PYTHON\n",
        "# ENVIRONMENT SO THERE MAY BE MISSING LIBRARIES USED BY YOUR\n",
        "# NOTEBOOK.\n",
        "\n",
        "plant_pathology_2020_fgvc7_path = kagglehub.competition_download('plant-pathology-2020-fgvc7')\n",
        "\n",
        "print('Data source import complete.')\n"
      ],
      "metadata": {
        "id": "rTmAK31CY8ZF"
      },
      "cell_type": "code",
      "outputs": [],
      "execution_count": null
    },
    {
      "cell_type": "code",
      "source": [
        "# This Python 3 environment comes with many helpful analytics libraries installed\n",
        "# It is defined by the kaggle/python Docker image: https://github.com/kaggle/docker-python\n",
        "# For example, here's several helpful packages to load\n",
        "\n",
        "import numpy as np # linear algebra\n",
        "import pandas as pd # data processing, CSV file I/O (e.g. pd.read_csv)\n",
        "from torch.utils.data import Dataset, DataLoader, TensorDataset\n",
        "from PIL import Image\n",
        "import torch\n",
        "from torchvision import transforms\n",
        "\n",
        "# Input data files are available in the read-only \"../input/\" directory\n",
        "# For example, running this (by clicking run or pressing Shift+Enter) will list all files under the input directory\n",
        "\n",
        "import os\n",
        "for dirname, _, filenames in os.walk('/kaggle/input'):\n",
        "    for filename in filenames:\n",
        "        print(os.path.join(dirname, filename))\n",
        "\n",
        "# You can write up to 20GB to the current directory (/kaggle/working/) that gets preserved as output when you create a version using \"Save & Run All\"\n",
        "# You can also write temporary files to /kaggle/temp/, but they won't be saved outside of the current session"
      ],
      "metadata": {
        "_uuid": "8f2839f25d086af736a60e9eeb907d3b93b6e0e5",
        "_cell_guid": "b1076dfc-b9ad-4769-8c92-a6c4dae69d19",
        "trusted": true,
        "execution": {
          "iopub.status.busy": "2025-08-16T04:22:18.613029Z",
          "iopub.execute_input": "2025-08-16T04:22:18.613473Z",
          "iopub.status.idle": "2025-08-16T04:22:20.095102Z",
          "shell.execute_reply.started": "2025-08-16T04:22:18.613436Z",
          "shell.execute_reply": "2025-08-16T04:22:20.09401Z"
        },
        "collapsed": true,
        "jupyter": {
          "outputs_hidden": true
        },
        "id": "_X2xbLtRY8ZF"
      },
      "outputs": [],
      "execution_count": null
    },
    {
      "cell_type": "code",
      "source": [
        "import torch.nn as nn\n",
        "import torch.optim as optim\n",
        "import torch.nn.functional as F"
      ],
      "metadata": {
        "trusted": true,
        "execution": {
          "iopub.status.busy": "2025-08-16T04:27:09.53667Z",
          "iopub.execute_input": "2025-08-16T04:27:09.53697Z",
          "iopub.status.idle": "2025-08-16T04:27:09.542498Z",
          "shell.execute_reply.started": "2025-08-16T04:27:09.536948Z",
          "shell.execute_reply": "2025-08-16T04:27:09.541289Z"
        },
        "id": "j57Riz7IY8ZG"
      },
      "outputs": [],
      "execution_count": null
    },
    {
      "cell_type": "code",
      "source": [
        "train_data = pd.read_csv('../input/plant-pathology-2020-fgvc7/train.csv')"
      ],
      "metadata": {
        "trusted": true,
        "execution": {
          "iopub.status.busy": "2025-08-16T04:22:20.096773Z",
          "iopub.execute_input": "2025-08-16T04:22:20.09709Z",
          "iopub.status.idle": "2025-08-16T04:22:20.106903Z",
          "shell.execute_reply.started": "2025-08-16T04:22:20.097064Z",
          "shell.execute_reply": "2025-08-16T04:22:20.105869Z"
        },
        "id": "sNtaGEwRY8ZG"
      },
      "outputs": [],
      "execution_count": null
    },
    {
      "cell_type": "code",
      "source": [
        "train_data.head()"
      ],
      "metadata": {
        "trusted": true,
        "execution": {
          "iopub.status.busy": "2025-08-16T04:22:20.108005Z",
          "iopub.execute_input": "2025-08-16T04:22:20.108464Z",
          "iopub.status.idle": "2025-08-16T04:22:20.129741Z",
          "shell.execute_reply.started": "2025-08-16T04:22:20.10844Z",
          "shell.execute_reply": "2025-08-16T04:22:20.12874Z"
        },
        "id": "IDj-VdjUY8ZG"
      },
      "outputs": [],
      "execution_count": null
    },
    {
      "cell_type": "code",
      "source": [
        "train_data.shape"
      ],
      "metadata": {
        "trusted": true,
        "execution": {
          "iopub.status.busy": "2025-08-16T04:22:20.131913Z",
          "iopub.execute_input": "2025-08-16T04:22:20.132286Z",
          "iopub.status.idle": "2025-08-16T04:22:20.150664Z",
          "shell.execute_reply.started": "2025-08-16T04:22:20.132212Z",
          "shell.execute_reply": "2025-08-16T04:22:20.149623Z"
        },
        "id": "3vRYGjjpY8ZG"
      },
      "outputs": [],
      "execution_count": null
    },
    {
      "cell_type": "code",
      "source": [
        "train_data.columns"
      ],
      "metadata": {
        "trusted": true,
        "execution": {
          "iopub.status.busy": "2025-08-16T04:22:20.152153Z",
          "iopub.execute_input": "2025-08-16T04:22:20.15259Z",
          "iopub.status.idle": "2025-08-16T04:22:20.172084Z",
          "shell.execute_reply.started": "2025-08-16T04:22:20.152558Z",
          "shell.execute_reply": "2025-08-16T04:22:20.171054Z"
        },
        "id": "QxJ59mq-Y8ZG"
      },
      "outputs": [],
      "execution_count": null
    },
    {
      "cell_type": "code",
      "source": [
        "train_data.info()"
      ],
      "metadata": {
        "trusted": true,
        "execution": {
          "iopub.status.busy": "2025-08-16T04:22:20.173625Z",
          "iopub.execute_input": "2025-08-16T04:22:20.173867Z",
          "iopub.status.idle": "2025-08-16T04:22:20.200506Z",
          "shell.execute_reply.started": "2025-08-16T04:22:20.173849Z",
          "shell.execute_reply": "2025-08-16T04:22:20.199355Z"
        },
        "id": "o8jQ6OfxY8ZG"
      },
      "outputs": [],
      "execution_count": null
    },
    {
      "cell_type": "code",
      "source": [
        "train_data.iloc[2, 0]"
      ],
      "metadata": {
        "trusted": true,
        "execution": {
          "iopub.status.busy": "2025-08-16T04:22:20.201518Z",
          "iopub.execute_input": "2025-08-16T04:22:20.201881Z",
          "iopub.status.idle": "2025-08-16T04:22:20.225928Z",
          "shell.execute_reply.started": "2025-08-16T04:22:20.201851Z",
          "shell.execute_reply": "2025-08-16T04:22:20.22477Z"
        },
        "id": "efS6dl8wY8ZG"
      },
      "outputs": [],
      "execution_count": null
    },
    {
      "cell_type": "code",
      "source": [
        "train_data.isnull().sum()  # how many missing values per column"
      ],
      "metadata": {
        "trusted": true,
        "execution": {
          "iopub.status.busy": "2025-08-16T04:22:20.227133Z",
          "iopub.execute_input": "2025-08-16T04:22:20.227549Z",
          "iopub.status.idle": "2025-08-16T04:22:20.25067Z",
          "shell.execute_reply.started": "2025-08-16T04:22:20.227511Z",
          "shell.execute_reply": "2025-08-16T04:22:20.249197Z"
        },
        "id": "ZUqnb-ajY8ZG"
      },
      "outputs": [],
      "execution_count": null
    },
    {
      "cell_type": "code",
      "source": [
        "def transform_img(img_path):\n",
        "    img = Image.open(f\"../input/plant-pathology-2020-fgvc7/images/{img_path}.jpg\").convert(\"RGB\")\n",
        "    transform = transforms.Compose([\n",
        "        transforms.Resize((224, 224)),\n",
        "        transforms.ToTensor(),\n",
        "        transforms.Normalize((0.5, 0.5, 0.5), (0.5, 0.5, 0.5))\n",
        "    ])\n",
        "\n",
        "    img_tensor = transform(img)\n",
        "    return img_tensor"
      ],
      "metadata": {
        "trusted": true,
        "execution": {
          "iopub.status.busy": "2025-08-16T04:22:20.312257Z",
          "iopub.execute_input": "2025-08-16T04:22:20.312552Z",
          "iopub.status.idle": "2025-08-16T04:22:20.318846Z",
          "shell.execute_reply.started": "2025-08-16T04:22:20.31253Z",
          "shell.execute_reply": "2025-08-16T04:22:20.317679Z"
        },
        "id": "DJ9nB2WfY8ZG"
      },
      "outputs": [],
      "execution_count": null
    },
    {
      "cell_type": "code",
      "source": [
        "train_data[\"image_tensor\"] = train_data[\"image_id\"].apply(transform_img)"
      ],
      "metadata": {
        "trusted": true,
        "execution": {
          "iopub.status.busy": "2025-08-16T04:22:20.31973Z",
          "iopub.execute_input": "2025-08-16T04:22:20.319987Z",
          "iopub.status.idle": "2025-08-16T04:23:22.276423Z",
          "shell.execute_reply.started": "2025-08-16T04:22:20.319968Z",
          "shell.execute_reply": "2025-08-16T04:23:22.275391Z"
        },
        "id": "MlBgKEI0Y8ZG"
      },
      "outputs": [],
      "execution_count": null
    },
    {
      "cell_type": "code",
      "source": [
        "train_data.to_csv(\"/kaggle/working/processed_train.csv\")"
      ],
      "metadata": {
        "trusted": true,
        "execution": {
          "iopub.status.busy": "2025-08-16T04:23:22.277421Z",
          "iopub.execute_input": "2025-08-16T04:23:22.277722Z",
          "iopub.status.idle": "2025-08-16T04:23:25.13309Z",
          "shell.execute_reply.started": "2025-08-16T04:23:22.277688Z",
          "shell.execute_reply": "2025-08-16T04:23:25.132401Z"
        },
        "id": "COFm0hCOY8ZG"
      },
      "outputs": [],
      "execution_count": null
    },
    {
      "cell_type": "code",
      "source": [
        "train_data.head()"
      ],
      "metadata": {
        "trusted": true,
        "execution": {
          "iopub.status.busy": "2025-08-16T04:23:25.134217Z",
          "iopub.execute_input": "2025-08-16T04:23:25.13458Z",
          "iopub.status.idle": "2025-08-16T04:24:35.894601Z",
          "shell.execute_reply.started": "2025-08-16T04:23:25.134552Z",
          "shell.execute_reply": "2025-08-16T04:24:35.893587Z"
        },
        "id": "VDH_DR0OY8ZG"
      },
      "outputs": [],
      "execution_count": null
    },
    {
      "cell_type": "code",
      "source": [
        "train_data.pop('image_id')"
      ],
      "metadata": {
        "trusted": true,
        "execution": {
          "iopub.status.busy": "2025-08-16T04:24:35.895512Z",
          "iopub.execute_input": "2025-08-16T04:24:35.895771Z",
          "iopub.status.idle": "2025-08-16T04:24:35.903835Z",
          "shell.execute_reply.started": "2025-08-16T04:24:35.895751Z",
          "shell.execute_reply": "2025-08-16T04:24:35.903063Z"
        },
        "id": "r2Kabn2rY8ZH"
      },
      "outputs": [],
      "execution_count": null
    },
    {
      "cell_type": "code",
      "source": [
        "class MultiLabelImageDataset(Dataset):\n",
        "    def __init__(self, df):\n",
        "        self.df = df\n",
        "\n",
        "    def __len__(self):\n",
        "        return len(self.df)\n",
        "\n",
        "    def __getitem__(self, idx):\n",
        "        row = self.df.iloc[idx]                      # get row by position\n",
        "        image = row['image_tensor'].clone().detach().float()\n",
        "        labels = row[['healthy','multiple_diseases','rust','scab']].to_numpy(dtype=np.float32)\n",
        "        labels = torch.tensor(labels, dtype=torch.float32)\n",
        "        return image, labels\n"
      ],
      "metadata": {
        "trusted": true,
        "execution": {
          "iopub.status.busy": "2025-08-16T04:33:54.49266Z",
          "iopub.execute_input": "2025-08-16T04:33:54.492993Z",
          "iopub.status.idle": "2025-08-16T04:33:54.500424Z",
          "shell.execute_reply.started": "2025-08-16T04:33:54.492965Z",
          "shell.execute_reply": "2025-08-16T04:33:54.499398Z"
        },
        "id": "kdQNLsYcY8ZH"
      },
      "outputs": [],
      "execution_count": null
    },
    {
      "cell_type": "code",
      "source": [
        "train_dataset = MultiLabelImageDataset(train_data)"
      ],
      "metadata": {
        "trusted": true,
        "execution": {
          "iopub.status.busy": "2025-08-16T04:33:54.932824Z",
          "iopub.execute_input": "2025-08-16T04:33:54.933131Z",
          "iopub.status.idle": "2025-08-16T04:33:54.93745Z",
          "shell.execute_reply.started": "2025-08-16T04:33:54.933106Z",
          "shell.execute_reply": "2025-08-16T04:33:54.936593Z"
        },
        "id": "_ZY69SI2Y8ZH"
      },
      "outputs": [],
      "execution_count": null
    },
    {
      "cell_type": "code",
      "source": [
        "train_loader = torch.utils.data.DataLoader(train_dataset, batch_size=4, shuffle=True, num_workers=0)"
      ],
      "metadata": {
        "trusted": true,
        "execution": {
          "iopub.status.busy": "2025-08-16T04:34:23.505636Z",
          "iopub.execute_input": "2025-08-16T04:34:23.505999Z",
          "iopub.status.idle": "2025-08-16T04:34:23.512039Z",
          "shell.execute_reply.started": "2025-08-16T04:34:23.505968Z",
          "shell.execute_reply": "2025-08-16T04:34:23.511022Z"
        },
        "id": "9ASWkVhyY8ZH"
      },
      "outputs": [],
      "execution_count": null
    },
    {
      "cell_type": "markdown",
      "source": [],
      "metadata": {
        "id": "1e4DAQkBY8ZH"
      }
    },
    {
      "cell_type": "code",
      "source": [
        "images, labels = next(iter(train_loader))\n",
        "print(images.shape)  # should be (4, 3, H, W)\n",
        "print(labels.shape)  # should be (4, 4)"
      ],
      "metadata": {
        "trusted": true,
        "execution": {
          "iopub.status.busy": "2025-08-16T04:34:24.089427Z",
          "iopub.execute_input": "2025-08-16T04:34:24.089731Z",
          "iopub.status.idle": "2025-08-16T04:34:24.115211Z",
          "shell.execute_reply.started": "2025-08-16T04:34:24.089706Z",
          "shell.execute_reply": "2025-08-16T04:34:24.113961Z"
        },
        "id": "fIUsdBN-Y8ZH"
      },
      "outputs": [],
      "execution_count": null
    },
    {
      "cell_type": "code",
      "source": [
        "class MultiLabelCNN(nn.Module):\n",
        "    def __init__(self, num_labels=4):\n",
        "        super(MultiLabelCNN, self).__init__()\n",
        "\n",
        "        self.conv1 = nn.Conv2d(in_channels=3, out_channels=16, kernel_size=3, padding=1)\n",
        "        self.conv2 = nn.Conv2d(16, 32, kernel_size=3, padding=1)\n",
        "        self.conv3 = nn.Conv2d(32, 64, kernel_size=3, padding=1)\n",
        "\n",
        "        self.pool = nn.MaxPool2d(2, 2)\n",
        "\n",
        "        self.fc1 = nn.Linear(64*28*28, 128)\n",
        "        self.fc2 = nn.Linear(128, num_labels)\n",
        "\n",
        "    def forward(self, x):\n",
        "        x = self.pool(F.relu(self.conv1(x)))\n",
        "        x = self.pool(F.relu(self.conv2(x)))\n",
        "        x = self.pool(F.relu(self.conv3(x)))\n",
        "\n",
        "        x = x.view(x.size(0), -1)\n",
        "\n",
        "        x = F.relu(self.fc1(x))\n",
        "        x = torch.sigmoid(self.fc2(x))\n",
        "\n",
        "        return x"
      ],
      "metadata": {
        "trusted": true,
        "execution": {
          "iopub.status.busy": "2025-08-16T04:34:29.079657Z",
          "iopub.execute_input": "2025-08-16T04:34:29.079987Z",
          "iopub.status.idle": "2025-08-16T04:34:29.088574Z",
          "shell.execute_reply.started": "2025-08-16T04:34:29.079958Z",
          "shell.execute_reply": "2025-08-16T04:34:29.08754Z"
        },
        "id": "iz6kjo7kY8ZH"
      },
      "outputs": [],
      "execution_count": null
    },
    {
      "cell_type": "code",
      "source": [
        "device = torch.device(\"cuda\" if torch.cuda.is_available() else \"cpu\")\n",
        "print(\"Using device:\", device)\n",
        "\n",
        "model = MultiLabelCNN(num_labels=4).to(device)\n",
        "\n",
        "criterion = nn.BCELoss()\n",
        "optimizer = optim.Adam(model.parameters(), lr=1e-3)\n",
        "\n",
        "num_epochs = 7\n",
        "\n",
        "for epoch in range(num_epochs):\n",
        "    model.train()\n",
        "    running_loss = 0.0\n",
        "\n",
        "    for images, labels in train_loader:\n",
        "        images = images.to(device, dtype=torch.float32)\n",
        "        labels = labels.to(device, dtype=torch.float32)\n",
        "\n",
        "        # Forward pass\n",
        "        outputs = model(images)\n",
        "        loss = criterion(outputs, labels)\n",
        "\n",
        "        optimizer.zero_grad()\n",
        "        loss.backward()\n",
        "        optimizer.step()\n",
        "\n",
        "        running_loss += loss.item() * images.size(0)\n",
        "\n",
        "    epoch_loss = running_loss / len(train_loader.dataset)\n",
        "    print(f\"Epoch {epoch+1}/{num_epochs}, Loss: {epoch_loss:.4f}\")"
      ],
      "metadata": {
        "trusted": true,
        "execution": {
          "iopub.status.busy": "2025-08-16T04:38:03.949615Z",
          "iopub.execute_input": "2025-08-16T04:38:03.949927Z",
          "iopub.status.idle": "2025-08-16T04:45:57.985477Z",
          "shell.execute_reply.started": "2025-08-16T04:38:03.949905Z",
          "shell.execute_reply": "2025-08-16T04:45:57.984614Z"
        },
        "id": "tjL-oGCZY8ZH"
      },
      "outputs": [],
      "execution_count": null
    },
    {
      "cell_type": "code",
      "source": [
        "test_data = pd.read_csv('../input/plant-pathology-2020-fgvc7/test.csv')"
      ],
      "metadata": {
        "trusted": true,
        "execution": {
          "iopub.status.busy": "2025-08-16T04:51:21.029071Z",
          "iopub.execute_input": "2025-08-16T04:51:21.029417Z",
          "iopub.status.idle": "2025-08-16T04:51:21.040345Z",
          "shell.execute_reply.started": "2025-08-16T04:51:21.029391Z",
          "shell.execute_reply": "2025-08-16T04:51:21.039351Z"
        },
        "id": "lpsMtC-pY8ZH"
      },
      "outputs": [],
      "execution_count": null
    },
    {
      "cell_type": "code",
      "source": [
        "test_data[\"image_tensor\"] = test_data[\"image_id\"].apply(transform_img)"
      ],
      "metadata": {
        "trusted": true,
        "execution": {
          "iopub.status.busy": "2025-08-16T04:51:23.425561Z",
          "iopub.execute_input": "2025-08-16T04:51:23.425889Z",
          "iopub.status.idle": "2025-08-16T04:52:25.358456Z",
          "shell.execute_reply.started": "2025-08-16T04:51:23.425863Z",
          "shell.execute_reply": "2025-08-16T04:52:25.357325Z"
        },
        "id": "IgGysESPY8ZH"
      },
      "outputs": [],
      "execution_count": null
    },
    {
      "cell_type": "code",
      "source": [
        "test_data.to_csv(\"/kaggle/working/processed_test.csv\")"
      ],
      "metadata": {
        "trusted": true,
        "execution": {
          "iopub.status.busy": "2025-08-16T04:52:25.36018Z",
          "iopub.execute_input": "2025-08-16T04:52:25.360671Z",
          "iopub.status.idle": "2025-08-16T04:52:28.175413Z",
          "shell.execute_reply.started": "2025-08-16T04:52:25.360645Z",
          "shell.execute_reply": "2025-08-16T04:52:28.174191Z"
        },
        "id": "-iYeWK6gY8ZH"
      },
      "outputs": [],
      "execution_count": null
    },
    {
      "cell_type": "code",
      "source": [
        "test_data.pop(\"image_id\")"
      ],
      "metadata": {
        "trusted": true,
        "execution": {
          "iopub.status.busy": "2025-08-16T04:52:28.176468Z",
          "iopub.execute_input": "2025-08-16T04:52:28.176732Z",
          "iopub.status.idle": "2025-08-16T04:52:28.184431Z",
          "shell.execute_reply.started": "2025-08-16T04:52:28.17671Z",
          "shell.execute_reply": "2025-08-16T04:52:28.183495Z"
        },
        "id": "bORK28YBY8ZH"
      },
      "outputs": [],
      "execution_count": null
    },
    {
      "cell_type": "code",
      "source": [
        "class TestImageDataset(Dataset):\n",
        "    def __init__(self, df):\n",
        "        self.df = df\n",
        "\n",
        "    def __len__(self):\n",
        "        return len(self.df)\n",
        "\n",
        "    def __getitem__(self, idx):\n",
        "        row = self.df.iloc[idx]\n",
        "        image = row['image_tensor'].clone().detach().float()\n",
        "        return image"
      ],
      "metadata": {
        "trusted": true,
        "execution": {
          "iopub.status.busy": "2025-08-16T04:55:20.924117Z",
          "iopub.execute_input": "2025-08-16T04:55:20.924517Z",
          "iopub.status.idle": "2025-08-16T04:55:20.930337Z",
          "shell.execute_reply.started": "2025-08-16T04:55:20.924491Z",
          "shell.execute_reply": "2025-08-16T04:55:20.929296Z"
        },
        "id": "v3GnjzagY8ZH"
      },
      "outputs": [],
      "execution_count": null
    },
    {
      "cell_type": "code",
      "source": [
        "test_dataset = TestImageDataset(test_data)\n",
        "test_loader = torch.utils.data.DataLoader(\n",
        "    test_dataset,\n",
        "    batch_size=4,\n",
        "    shuffle=False,\n",
        "    num_workers=0\n",
        ")"
      ],
      "metadata": {
        "trusted": true,
        "execution": {
          "iopub.status.busy": "2025-08-16T04:55:21.521806Z",
          "iopub.execute_input": "2025-08-16T04:55:21.522107Z",
          "iopub.status.idle": "2025-08-16T04:55:21.527538Z",
          "shell.execute_reply.started": "2025-08-16T04:55:21.522086Z",
          "shell.execute_reply": "2025-08-16T04:55:21.526524Z"
        },
        "id": "Ln1glJyUY8ZH"
      },
      "outputs": [],
      "execution_count": null
    },
    {
      "cell_type": "code",
      "source": [
        "all_outputs = []\n",
        "\n",
        "model.eval()\n",
        "with torch.no_grad():\n",
        "    for images in test_loader:\n",
        "        images = images.to(device, dtype=torch.float32)\n",
        "        outputs = model(images)\n",
        "        all_outputs.append(outputs)\n",
        "\n",
        "all_outputs_tensor = torch.cat(all_outputs, dim=0)\n",
        "\n",
        "# Example access\n",
        "print(all_outputs_tensor[0])\n",
        "print(all_outputs_tensor[0, 2])\n",
        "\n",
        "all_outputs_np = all_outputs_tensor.cpu().numpy()\n",
        "print(all_outputs_np[0])\n"
      ],
      "metadata": {
        "trusted": true,
        "execution": {
          "iopub.status.busy": "2025-08-16T04:58:33.765624Z",
          "iopub.execute_input": "2025-08-16T04:58:33.766037Z",
          "iopub.status.idle": "2025-08-16T04:58:49.452596Z",
          "shell.execute_reply.started": "2025-08-16T04:58:33.766004Z",
          "shell.execute_reply": "2025-08-16T04:58:49.451743Z"
        },
        "id": "rK72RJaPY8ZH"
      },
      "outputs": [],
      "execution_count": null
    },
    {
      "cell_type": "code",
      "source": [
        "pred_labels = (all_outputs_tensor > 0.5).int()\n",
        "print(pred_labels)  # tensor([0, 0, 1, 0])"
      ],
      "metadata": {
        "trusted": true,
        "execution": {
          "iopub.status.busy": "2025-08-16T05:00:07.823299Z",
          "iopub.execute_input": "2025-08-16T05:00:07.823628Z",
          "iopub.status.idle": "2025-08-16T05:00:07.831128Z",
          "shell.execute_reply.started": "2025-08-16T05:00:07.823607Z",
          "shell.execute_reply": "2025-08-16T05:00:07.830131Z"
        },
        "id": "4kyKuB1AY8ZI"
      },
      "outputs": [],
      "execution_count": null
    },
    {
      "cell_type": "code",
      "source": [
        "pred_labels.shape"
      ],
      "metadata": {
        "trusted": true,
        "execution": {
          "iopub.status.busy": "2025-08-16T05:08:26.854162Z",
          "iopub.execute_input": "2025-08-16T05:08:26.855089Z",
          "iopub.status.idle": "2025-08-16T05:08:26.860745Z",
          "shell.execute_reply.started": "2025-08-16T05:08:26.855058Z",
          "shell.execute_reply": "2025-08-16T05:08:26.859821Z"
        },
        "id": "9_ZCED3xY8ZI"
      },
      "outputs": [],
      "execution_count": null
    },
    {
      "cell_type": "code",
      "source": [
        "# Suppose your model is called 'model'\n",
        "torch.save(model.state_dict(), \"/kaggle/working/Crop_Disease_Classifier.pth\")\n"
      ],
      "metadata": {
        "trusted": true,
        "execution": {
          "iopub.status.busy": "2025-08-16T05:09:20.37311Z",
          "iopub.execute_input": "2025-08-16T05:09:20.373555Z",
          "iopub.status.idle": "2025-08-16T05:09:20.422145Z",
          "shell.execute_reply.started": "2025-08-16T05:09:20.373529Z",
          "shell.execute_reply": "2025-08-16T05:09:20.421208Z"
        },
        "id": "0AU45CJFY8ZI"
      },
      "outputs": [],
      "execution_count": null
    },
    {
      "cell_type": "code",
      "source": [],
      "metadata": {
        "trusted": true,
        "id": "O6LEWZo5Y8ZI"
      },
      "outputs": [],
      "execution_count": null
    }
  ]
}